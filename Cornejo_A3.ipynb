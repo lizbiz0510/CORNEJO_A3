{
  "nbformat": 4,
  "nbformat_minor": 0,
  "metadata": {
    "colab": {
      "provenance": [],
      "authorship_tag": "ABX9TyNqVutiRSma8ZH5gnOwYZ0S",
      "include_colab_link": true
    },
    "kernelspec": {
      "name": "python3",
      "display_name": "Python 3"
    },
    "language_info": {
      "name": "python"
    }
  },
  "cells": [
    {
      "cell_type": "markdown",
      "metadata": {
        "id": "view-in-github",
        "colab_type": "text"
      },
      "source": [
        "<a href=\"https://colab.research.google.com/github/lizbiz0510/CORNEJO_A3/blob/main/Cornejo_A3.ipynb\" target=\"_parent\"><img src=\"https://colab.research.google.com/assets/colab-badge.svg\" alt=\"Open In Colab\"/></a>"
      ]
    },
    {
      "cell_type": "code",
      "source": [
        "# Install any missing dependencies\n",
        "! pip install pandasql\n"
      ],
      "metadata": {
        "colab": {
          "base_uri": "https://localhost:8080/"
        },
        "id": "curUkzmKv6QX",
        "outputId": "f12d494d-085d-456b-f2e7-e0570724de4b"
      },
      "execution_count": 1,
      "outputs": [
        {
          "output_type": "stream",
          "name": "stdout",
          "text": [
            "Looking in indexes: https://pypi.org/simple, https://us-python.pkg.dev/colab-wheels/public/simple/\n",
            "Collecting pandasql\n",
            "  Downloading pandasql-0.7.3.tar.gz (26 kB)\n",
            "  Preparing metadata (setup.py) ... \u001b[?25l\u001b[?25hdone\n",
            "Requirement already satisfied: numpy in /usr/local/lib/python3.8/dist-packages (from pandasql) (1.22.4)\n",
            "Requirement already satisfied: pandas in /usr/local/lib/python3.8/dist-packages (from pandasql) (1.3.5)\n",
            "Requirement already satisfied: sqlalchemy in /usr/local/lib/python3.8/dist-packages (from pandasql) (1.4.46)\n",
            "Requirement already satisfied: pytz>=2017.3 in /usr/local/lib/python3.8/dist-packages (from pandas->pandasql) (2022.7.1)\n",
            "Requirement already satisfied: python-dateutil>=2.7.3 in /usr/local/lib/python3.8/dist-packages (from pandas->pandasql) (2.8.2)\n",
            "Requirement already satisfied: greenlet!=0.4.17 in /usr/local/lib/python3.8/dist-packages (from sqlalchemy->pandasql) (2.0.2)\n",
            "Requirement already satisfied: six>=1.5 in /usr/local/lib/python3.8/dist-packages (from python-dateutil>=2.7.3->pandas->pandasql) (1.15.0)\n",
            "Building wheels for collected packages: pandasql\n",
            "  Building wheel for pandasql (setup.py) ... \u001b[?25l\u001b[?25hdone\n",
            "  Created wheel for pandasql: filename=pandasql-0.7.3-py3-none-any.whl size=26787 sha256=e73623eb5fe07a24a1e484e32c46d728355c2f54dddbd3ccce1d230c0a8d02d9\n",
            "  Stored in directory: /root/.cache/pip/wheels/ed/8f/46/a383923333728744f01ba24adbd8e364f2cb9470a8b8e5b9ff\n",
            "Successfully built pandasql\n",
            "Installing collected packages: pandasql\n",
            "Successfully installed pandasql-0.7.3\n"
          ]
        }
      ]
    },
    {
      "cell_type": "code",
      "execution_count": 95,
      "metadata": {
        "colab": {
          "base_uri": "https://localhost:8080/"
        },
        "id": "zZVJqMP6uSjt",
        "outputId": "caa6b471-5248-49fc-a4f8-60eb784c611f"
      },
      "outputs": [
        {
          "output_type": "stream",
          "name": "stdout",
          "text": [
            "  class  cap_diameter cap_shape cap_surface cap_color does_bruise_or_bleed gill_attachment gill_spacing gill_color  stem_height  stem_width stem_root stem_surface stem_color veil_type veil_color has_ring ring_type spore_print_color habitat season\n",
            "0     p         15.26         x           g         o                    f               e          NaN          w        16.95       17.09         s            y          w         u          w        t         g               NaN       d      w\n",
            "1     p         16.60         x           g         o                    f               e          NaN          w        17.99       18.19         s            y          w         u          w        t         g               NaN       d      u\n",
            "2     p         14.07         x           g         o                    f               e          NaN          w        17.80       17.74         s            y          w         u          w        t         g               NaN       d      w\n",
            "3     p         14.17         f           h         e                    f               e          NaN          w        15.77       15.98         s            y          w         u          w        t         p               NaN       d      w\n",
            "4     p         14.64         x           h         o                    f               e          NaN          w        16.53       17.20         s            y          w         u          w        t         p               NaN       d      w\n",
            "Index(['class', 'cap_diameter', 'cap_shape', 'cap_surface', 'cap_color',\n",
            "       'does_bruise_or_bleed', 'gill_attachment', 'gill_spacing', 'gill_color',\n",
            "       'stem_height', 'stem_width', 'stem_root', 'stem_surface', 'stem_color',\n",
            "       'veil_type', 'veil_color', 'has_ring', 'ring_type', 'spore_print_color',\n",
            "       'habitat', 'season'],\n",
            "      dtype='object')\n"
          ]
        }
      ],
      "source": [
        "\n",
        "import pandas as pd\n",
        "import pandasql as ps\n",
        "\n",
        "with open('secondary_data.csv') as f1:\n",
        "  with open('data.csv', 'w') as f2:\n",
        "    f2.write(f1.read().replace(';', ',').replace('-', '_').replace(\" \", \"\"))\n",
        "\n",
        "data = pd.read_csv('data.csv')\n",
        "print(data.head().to_string()) \n",
        "print(data.columns)\n"
      ]
    },
    {
      "cell_type": "code",
      "source": [
        "trainset = data.sample(frac=0.75)\n",
        "testset = data.drop(trainset.index)\n",
        "print('Length of Trainset:', len(trainset),'\\nLength of Testset:', len(testset))"
      ],
      "metadata": {
        "colab": {
          "base_uri": "https://localhost:8080/"
        },
        "id": "l3AdfdS9tIpd",
        "outputId": "69656bdd-fb7f-4f57-c618-933415ba346d"
      },
      "execution_count": 96,
      "outputs": [
        {
          "output_type": "stream",
          "name": "stdout",
          "text": [
            "Length of Trainset: 45802 \n",
            "Length of Testset: 15267\n"
          ]
        }
      ]
    },
    {
      "cell_type": "code",
      "source": [
        "def checkCategoricalVariable(varName, x, data):\n",
        "  sql_query = \"SELECT * FROM data WHERE \" + str(varName) + \" = '\" + str(x[str(varName)]) + \"'\"\n",
        "  temp = data\n",
        "  data = ps.sqldf(sql_query,locals())\n",
        "  if len(data) < 1:\n",
        "    sql_query = \"SELECT * FROM temp WHERE class = 'p'\"\n",
        "    df1 = ps.sqldf(sql_query,locals())\n",
        "    sql_query = \"SELECT * FROM temp WHERE class = 'e'\"\n",
        "    df2 = ps.sqldf(sql_query,locals())\n",
        "    if len(df1) > len(df2):\n",
        "      return df1.iloc[0]\n",
        "    return df2.iloc[0]\n",
        "  return data\n",
        "\n",
        "def checkNumericVariable(varName, x, data, _range):\n",
        "  if x[str(varName)] >= _range[0] and x[str(varName)] < _range[1]:\n",
        "    sql_query = \"SELECT * FROM data WHERE \" + str(varName) + \"  >= \" + str(_range[0]) + \" AND \" + str(varName) + \"  < \" + str(_range[1])\n",
        "    temp = data\n",
        "    data = ps.sqldf(sql_query,locals())\n",
        "    if len(data) < 1:\n",
        "      sql_query = \"SELECT * FROM temp WHERE class = 'p'\"\n",
        "      df1 = ps.sqldf(sql_query,locals())\n",
        "      sql_query = \"SELECT * FROM temp WHERE class = 'e'\"\n",
        "      df2 = ps.sqldf(sql_query,locals())\n",
        "      if len(df1) > len(df2):\n",
        "        return df1.iloc[0]\n",
        "      return df2.iloc[0]\n",
        "    return data\n",
        "  return data"
      ],
      "metadata": {
        "id": "xYE88eHek-5N"
      },
      "execution_count": 99,
      "outputs": []
    },
    {
      "cell_type": "code",
      "source": [
        "def classify(x, trainset):\n",
        "  categorical_vars = [\"cap_shape\", \"cap_surface\", \"cap_color\", \"does_bruise_or_bleed\", \"gill_attachment\",\n",
        "                      \"gill_color\", \"stem_root\", \"stem_surface\", \"stem_color\", \"veil_type\", \n",
        "                      \"veil_color\", \"has_ring\", \"ring_type\", \"habitat\", \"season\"]\n",
        "  data = trainset\n",
        "\n",
        "  while len(data) > 1 and len(categorical_vars) > 0:\n",
        "    data = checkCategoricalVariable(categorical_vars.pop(0), x, data)\n",
        "\n",
        "  if len(data) == 1:\n",
        "    return data.iloc[0]['class']\n",
        "\n",
        "  numerical_vars = {\"cap_diameter\": 60, \"stem_height\": 30, \"stem_width\": 100}\n",
        "\n",
        "  for var in numerical_vars:\n",
        "    for i in range(0, numerical_vars[var], 10):\n",
        "      data = checkNumericVariable(var, x, data, (i, i + 10))\n",
        "      if len(data) == 1:\n",
        "        return data.iloc[0]['class']\n",
        "  \n",
        "  sql_query = \"SELECT * FROM data WHERE class = 'p'\"\n",
        "  df1 = ps.sqldf(sql_query,locals())\n",
        "  sql_query = \"SELECT * FROM data WHERE class = 'e'\"\n",
        "  df2 = ps.sqldf(sql_query,locals())\n",
        "  if len(df1) > len(df2):\n",
        "    return df1.iloc[0]['class']\n",
        "  return df2.iloc[0]['class']\n",
        "\n",
        "print(testset.iloc[90])\n",
        " "
      ],
      "metadata": {
        "colab": {
          "base_uri": "https://localhost:8080/"
        },
        "id": "TwBKDyyguNs2",
        "outputId": "df7a8584-aa6e-467a-c782-034b0741c6f6"
      },
      "execution_count": 131,
      "outputs": [
        {
          "output_type": "stream",
          "name": "stdout",
          "text": [
            "class                       p\n",
            "cap_diameter             7.44\n",
            "cap_shape                   p\n",
            "cap_surface                 g\n",
            "cap_color                   n\n",
            "does_bruise_or_bleed        f\n",
            "gill_attachment             e\n",
            "gill_spacing              NaN\n",
            "gill_color                  w\n",
            "stem_height              8.58\n",
            "stem_width              15.59\n",
            "stem_root                 NaN\n",
            "stem_surface                y\n",
            "stem_color                  w\n",
            "veil_type                   u\n",
            "veil_color                  w\n",
            "has_ring                    t\n",
            "ring_type                   p\n",
            "spore_print_color         NaN\n",
            "habitat                     d\n",
            "season                      a\n",
            "Name: 394, dtype: object\n"
          ]
        }
      ]
    },
    {
      "cell_type": "code",
      "source": [
        "sampleset = testset[:5]\n",
        "testset = testset[5:]\n",
        "\n",
        "def evaluate(inputs,data):\n",
        "  correct = 0 \n",
        "  for i in range(50):\n",
        "    if inputs.iloc[i][\"class\"] == classify(inputs.iloc[i], data):\n",
        "      correct +=1\n",
        "  return correct/50\n",
        "print(evaluate(testset,trainset))\n"
      ],
      "metadata": {
        "colab": {
          "base_uri": "https://localhost:8080/"
        },
        "id": "di46ovjnwFuL",
        "outputId": "91937e97-9740-481c-f46d-bdb5e4200914"
      },
      "execution_count": 134,
      "outputs": [
        {
          "output_type": "stream",
          "name": "stdout",
          "text": [
            "1.0\n"
          ]
        }
      ]
    },
    {
      "cell_type": "code",
      "source": [
        "print(\"The decision tree classifies\")\n",
        "print(sampleset.iloc[0])\n",
        "print(\"as \" + (\"not poisonous\" if classify(sampleset.iloc[0], trainset).strip()=='e' else \"poisonous\"))\n",
        "print('_____________________________________________________\\n')\n",
        "\n",
        "print(\"The decision tree classifies\")\n",
        "print(sampleset.iloc[1])\n",
        "print(\"as \" + (\"not poisonous\" if classify(sampleset.iloc[1], trainset).strip()=='e' else \"poisonous\"))\n",
        "print('_____________________________________________________\\n')\n",
        "\n",
        "print(\"The decision tree classifies\")\n",
        "print(sampleset.iloc[2])\n",
        "print(\"as \" + (\"not poisonous\" if classify(sampleset.iloc[2], trainset).strip()=='e' else \"poisonous\"))\n",
        "print('_____________________________________________________\\n')\n",
        "\n",
        "print(\"The decision tree classifies\")\n",
        "print(sampleset.iloc[3])\n",
        "print(\"as \" + (\"not poisonous\" if classify(sampleset.iloc[3], trainset).strip()=='e' else \"poisonous\"))\n",
        "print('_____________________________________________________\\n')\n",
        "\n",
        "print(\"The decision tree classifies\")\n",
        "print(sampleset.iloc[4])\n",
        "print(\"as \" + (\"not poisonous\" if classify(sampleset.iloc[4], trainset).strip()=='e' else \"poisonous\"))\n",
        "print('_____________________________________________________\\n')"
      ],
      "metadata": {
        "colab": {
          "base_uri": "https://localhost:8080/"
        },
        "id": "5DaFs-1vPe1O",
        "outputId": "28ab9478-7435-446b-eca8-53f56ebaff7b"
      },
      "execution_count": 135,
      "outputs": [
        {
          "output_type": "stream",
          "name": "stdout",
          "text": [
            "The decision tree classifies\n",
            "class                       p\n",
            "cap_diameter            12.27\n",
            "cap_shape                   f\n",
            "cap_surface                 g\n",
            "cap_color                   o\n",
            "does_bruise_or_bleed        f\n",
            "gill_attachment             e\n",
            "gill_spacing              NaN\n",
            "gill_color                  w\n",
            "stem_height             16.15\n",
            "stem_width              17.17\n",
            "stem_root                   s\n",
            "stem_surface                y\n",
            "stem_color                  w\n",
            "veil_type                   u\n",
            "veil_color                  w\n",
            "has_ring                    t\n",
            "ring_type                   g\n",
            "spore_print_color         NaN\n",
            "habitat                     d\n",
            "season                      w\n",
            "Name: 47, dtype: object\n",
            "as poisonous\n",
            "_____________________________________________________\n",
            "\n",
            "The decision tree classifies\n",
            "class                       p\n",
            "cap_diameter            16.03\n",
            "cap_shape                   f\n",
            "cap_surface                 g\n",
            "cap_color                   o\n",
            "does_bruise_or_bleed        f\n",
            "gill_attachment             e\n",
            "gill_spacing              NaN\n",
            "gill_color                  w\n",
            "stem_height             19.34\n",
            "stem_width              19.37\n",
            "stem_root                   s\n",
            "stem_surface                y\n",
            "stem_color                  w\n",
            "veil_type                   u\n",
            "veil_color                  w\n",
            "has_ring                    t\n",
            "ring_type                   g\n",
            "spore_print_color         NaN\n",
            "habitat                     d\n",
            "season                      u\n",
            "Name: 48, dtype: object\n",
            "as poisonous\n",
            "_____________________________________________________\n",
            "\n",
            "The decision tree classifies\n",
            "class                       p\n",
            "cap_diameter            15.48\n",
            "cap_shape                   x\n",
            "cap_surface                 g\n",
            "cap_color                   e\n",
            "does_bruise_or_bleed        f\n",
            "gill_attachment             e\n",
            "gill_spacing              NaN\n",
            "gill_color                  w\n",
            "stem_height             19.22\n",
            "stem_width              18.14\n",
            "stem_root                   s\n",
            "stem_surface                y\n",
            "stem_color                  w\n",
            "veil_type                   u\n",
            "veil_color                  w\n",
            "has_ring                    t\n",
            "ring_type                   p\n",
            "spore_print_color         NaN\n",
            "habitat                     d\n",
            "season                      u\n",
            "Name: 52, dtype: object\n",
            "as poisonous\n",
            "_____________________________________________________\n",
            "\n",
            "The decision tree classifies\n",
            "class                       p\n",
            "cap_diameter            15.07\n",
            "cap_shape                   f\n",
            "cap_surface                 h\n",
            "cap_color                   o\n",
            "does_bruise_or_bleed        f\n",
            "gill_attachment             e\n",
            "gill_spacing              NaN\n",
            "gill_color                  w\n",
            "stem_height             16.97\n",
            "stem_width              17.51\n",
            "stem_root                   s\n",
            "stem_surface                y\n",
            "stem_color                  w\n",
            "veil_type                   u\n",
            "veil_color                  w\n",
            "has_ring                    t\n",
            "ring_type                   g\n",
            "spore_print_color         NaN\n",
            "habitat                     d\n",
            "season                      u\n",
            "Name: 56, dtype: object\n",
            "as poisonous\n",
            "_____________________________________________________\n",
            "\n",
            "The decision tree classifies\n",
            "class                       p\n",
            "cap_diameter            13.82\n",
            "cap_shape                   f\n",
            "cap_surface                 h\n",
            "cap_color                   o\n",
            "does_bruise_or_bleed        f\n",
            "gill_attachment             e\n",
            "gill_spacing              NaN\n",
            "gill_color                  w\n",
            "stem_height             16.86\n",
            "stem_width              17.14\n",
            "stem_root                   s\n",
            "stem_surface                y\n",
            "stem_color                  w\n",
            "veil_type                   u\n",
            "veil_color                  w\n",
            "has_ring                    t\n",
            "ring_type                   p\n",
            "spore_print_color         NaN\n",
            "habitat                     d\n",
            "season                      u\n",
            "Name: 58, dtype: object\n",
            "as poisonous\n",
            "_____________________________________________________\n",
            "\n"
          ]
        }
      ]
    }
  ]
}